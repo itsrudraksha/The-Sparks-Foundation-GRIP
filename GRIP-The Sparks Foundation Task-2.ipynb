{
 "cells": [
  {
   "cell_type": "markdown",
   "id": "895040d8",
   "metadata": {},
   "source": [
    "# GRIP : The Sparks Foundation\n",
    "## Data Science and Business Analytics Intern(Sep-2021)\n",
    "## Author : Rudresh Patidar\n",
    "## Task 2 : From the given 'Iris' dataset, predicting the optimum number of clusters and representing it visually."
   ]
  },
  {
   "cell_type": "code",
   "execution_count": 40,
   "id": "62db1dd2",
   "metadata": {},
   "outputs": [],
   "source": [
    "import pandas as pd\n",
    "import numpy as np  \n",
    "import matplotlib.pyplot as plt  \n",
    "%matplotlib inline\n",
    "from sklearn import datasets"
   ]
  },
  {
   "cell_type": "code",
   "execution_count": 41,
   "id": "16c968eb",
   "metadata": {},
   "outputs": [
    {
     "data": {
      "text/html": [
       "<div>\n",
       "<style scoped>\n",
       "    .dataframe tbody tr th:only-of-type {\n",
       "        vertical-align: middle;\n",
       "    }\n",
       "\n",
       "    .dataframe tbody tr th {\n",
       "        vertical-align: top;\n",
       "    }\n",
       "\n",
       "    .dataframe thead th {\n",
       "        text-align: right;\n",
       "    }\n",
       "</style>\n",
       "<table border=\"1\" class=\"dataframe\">\n",
       "  <thead>\n",
       "    <tr style=\"text-align: right;\">\n",
       "      <th></th>\n",
       "      <th>sepal length (cm)</th>\n",
       "      <th>sepal width (cm)</th>\n",
       "      <th>petal length (cm)</th>\n",
       "      <th>petal width (cm)</th>\n",
       "    </tr>\n",
       "  </thead>\n",
       "  <tbody>\n",
       "    <tr>\n",
       "      <th>0</th>\n",
       "      <td>5.1</td>\n",
       "      <td>3.5</td>\n",
       "      <td>1.4</td>\n",
       "      <td>0.2</td>\n",
       "    </tr>\n",
       "    <tr>\n",
       "      <th>1</th>\n",
       "      <td>4.9</td>\n",
       "      <td>3.0</td>\n",
       "      <td>1.4</td>\n",
       "      <td>0.2</td>\n",
       "    </tr>\n",
       "    <tr>\n",
       "      <th>2</th>\n",
       "      <td>4.7</td>\n",
       "      <td>3.2</td>\n",
       "      <td>1.3</td>\n",
       "      <td>0.2</td>\n",
       "    </tr>\n",
       "    <tr>\n",
       "      <th>3</th>\n",
       "      <td>4.6</td>\n",
       "      <td>3.1</td>\n",
       "      <td>1.5</td>\n",
       "      <td>0.2</td>\n",
       "    </tr>\n",
       "    <tr>\n",
       "      <th>4</th>\n",
       "      <td>5.0</td>\n",
       "      <td>3.6</td>\n",
       "      <td>1.4</td>\n",
       "      <td>0.2</td>\n",
       "    </tr>\n",
       "  </tbody>\n",
       "</table>\n",
       "</div>"
      ],
      "text/plain": [
       "   sepal length (cm)  sepal width (cm)  petal length (cm)  petal width (cm)\n",
       "0                5.1               3.5                1.4               0.2\n",
       "1                4.9               3.0                1.4               0.2\n",
       "2                4.7               3.2                1.3               0.2\n",
       "3                4.6               3.1                1.5               0.2\n",
       "4                5.0               3.6                1.4               0.2"
      ]
     },
     "execution_count": 41,
     "metadata": {},
     "output_type": "execute_result"
    }
   ],
   "source": [
    "ir = datasets.load_iris()\n",
    "iris = pd.DataFrame(ir.data, columns = ir.feature_names)\n",
    "iris.head()"
   ]
  },
  {
   "cell_type": "markdown",
   "id": "355b2a93",
   "metadata": {},
   "source": [
    "### Finding the optimum of clusters for K Means."
   ]
  },
  {
   "cell_type": "markdown",
   "id": "ad2c4e39",
   "metadata": {},
   "source": [
    "1. We are going to use Elbow Method for finding the optimum number of  Cluster for K Means.\n",
    "2. For this we need to plot the inertia graph.\n",
    "3. Inertia tells how far away the points within a cluster are. Therefore, a small of inertia is aimed for. The range of inertia's value stars from zero and goes up.   \n",
    "\n"
   ]
  },
  {
   "cell_type": "markdown",
   "id": "3a1296a9",
   "metadata": {},
   "source": [
    "### Calculating Inertia"
   ]
  },
  {
   "cell_type": "code",
   "execution_count": 42,
   "id": "786b9e08",
   "metadata": {},
   "outputs": [
    {
     "name": "stderr",
     "output_type": "stream",
     "text": [
      "C:\\Anaconda\\lib\\site-packages\\sklearn\\cluster\\_kmeans.py:881: UserWarning: KMeans is known to have a memory leak on Windows with MKL, when there are less chunks than available threads. You can avoid it by setting the environment variable OMP_NUM_THREADS=1.\n",
      "  warnings.warn(\n"
     ]
    }
   ],
   "source": [
    "x = iris.iloc[:,[0, 1, 2, 3]].values\n",
    "\n",
    "from sklearn.cluster import KMeans\n",
    "WCSS = [] #within cluster sum of squares\n",
    "\n",
    "for i in range(1,11):\n",
    "    km = KMeans(n_clusters = i, init = 'k-means++',\n",
    "                max_iter = 300, n_init = 10, random_state = 0)\n",
    "    km.fit(x)\n",
    "    WCSS.append(km.inertia_)\n",
    "    "
   ]
  },
  {
   "cell_type": "markdown",
   "id": "ea9f4b58",
   "metadata": {},
   "source": [
    "### Plotting Inertia Graph"
   ]
  },
  {
   "cell_type": "code",
   "execution_count": 43,
   "id": "1df01bd3",
   "metadata": {},
   "outputs": [
    {
     "data": {
      "image/png": "[encoded data removed]",
      "text/plain": [
       "<Figure size 432x288 with 1 Axes>"
      ]
     },
     "metadata": {
      "needs_background": "light"
     },
     "output_type": "display_data"
    }
   ],
   "source": [
    "plt.plot(range(1, 11), WCSS)\n",
    "plt.title('The elbow method')\n",
    "plt.xlabel('Number of clusters')\n",
    "plt.ylabel('WCSS') \n",
    "plt.show()"
   ]
  },
  {
   "cell_type": "markdown",
   "id": "12d56ccd",
   "metadata": {},
   "source": [
    " 1. The optimum clusters is where the elbow occurs.\n",
    " 2. After 3 the slope of graph decreases by small amounts, suggesting that algorithm has almost converged.\n",
    " 3. We can say that 3 clusters are optimum."
   ]
  },
  {
   "cell_type": "markdown",
   "id": "781dfaa3",
   "metadata": {},
   "source": [
    "### Creating the kmeans classifier"
   ]
  },
  {
   "cell_type": "code",
   "execution_count": 44,
   "id": "61d0fc61",
   "metadata": {},
   "outputs": [],
   "source": [
    "kmeans = KMeans(n_clusters = 3, init = 'k-means++',\n",
    "                max_iter = 300, n_init = 10, random_state = 0)\n",
    "y_kmeans = kmeans.fit_predict(x)"
   ]
  },
  {
   "cell_type": "markdown",
   "id": "1d23f3ce",
   "metadata": {},
   "source": [
    "### plotting the clusters"
   ]
  },
  {
   "cell_type": "code",
   "execution_count": 45,
   "id": "74a5371c",
   "metadata": {},
   "outputs": [
    {
     "data": {
      "text/plain": [
       "<matplotlib.legend.Legend at 0x2b8715d6670>"
      ]
     },
     "execution_count": 45,
     "metadata": {},
     "output_type": "execute_result"
    },
    {
     "data": {
      "image/png": "[encoded data removed]",
      "text/plain": [
       "<Figure size 720x360 with 1 Axes>"
      ]
     },
     "metadata": {
      "needs_background": "light"
     },
     "output_type": "display_data"
    }
   ],
   "source": [
    "# on the first two columns\n",
    "plt.figure(figsize=(10,5))\n",
    "plt.scatter(x[y_kmeans == 0, 0], x[y_kmeans == 0, 1], s = 100, c = 'red', label = 'Iris-setosa')\n",
    "plt.scatter(x[y_kmeans == 1, 0], x[y_kmeans == 1, 1], s = 100, c = 'blue', label = 'Iris-versicolour')\n",
    "plt.scatter(x[y_kmeans == 2, 0], x[y_kmeans == 2, 1], s = 100, c = 'green', label = 'Iris-virginica')\n",
    "\n",
    "#centroid of the clusters\n",
    "plt.scatter(kmeans.cluster_centers_[:,0], kmeans.cluster_centers_[:,1], s = 100, c = 'yellow', label = 'Centroids')\n",
    "plt.legend()\n"
   ]
  },
  {
   "cell_type": "code",
   "execution_count": null,
   "id": "d68b4f6d",
   "metadata": {},
   "outputs": [],
   "source": []
  }
 ],
 "metadata": {
  "kernelspec": {
   "display_name": "Python 3",
   "language": "python",
   "name": "python3"
  },
  "language_info": {
   "codemirror_mode": {
    "name": "ipython",
    "version": 3
   },
   "file_extension": ".py",
   "mimetype": "text/x-python",
   "name": "python",
   "nbconvert_exporter": "python",
   "pygments_lexer": "ipython3",
   "version": "3.8.8"
  }
 },
 "nbformat": 4,
 "nbformat_minor": 5
}
